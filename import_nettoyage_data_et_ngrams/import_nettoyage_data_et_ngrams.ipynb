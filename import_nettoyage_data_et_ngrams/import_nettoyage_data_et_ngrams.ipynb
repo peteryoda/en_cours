{
 "cells": [
  {
   "cell_type": "code",
   "execution_count": 2,
   "metadata": {},
   "outputs": [],
   "source": [
    "# A faire au début, pour utiliser \"%autoreload\" : \n",
    "%load_ext autoreload\n",
    "%autoreload\n",
    "\n",
    "import pandas as pd\n",
    "pd.set_option('display.max_colwidth',-1)\n",
    "\n",
    "from functions import fun_create_df_cleansing_titles_find_ngrams as fc"
   ]
  },
  {
   "cell_type": "markdown",
   "metadata": {},
   "source": [
    "### 1. Utilisation de \"create_df\" = fonction pour import des données"
   ]
  },
  {
   "cell_type": "code",
   "execution_count": 3,
   "metadata": {},
   "outputs": [
    {
     "name": "stdout",
     "output_type": "stream",
     "text": [
      "name_file: wine_wac_descriptions\n",
      "Nb de séparateurs tabulation sur la 1ère ligne:  6\n",
      "['9-de-marquis-de-terme-2012-14526', '|accueil|france|bordeaux|margaux|chateau marquis de terme', '9 De Marquis De Terme 2012', 'https://www.wineandco.com/9-de-marquis-de-terme-2012-14526-fr-eur-fr.html', '  Le domaine  Domaine du Marquis de Terme : La passion de l’excellence  C’est en 1762 que le Marquis de Terme , en épousant Elisabeth de Ledoux d’Emplet, devient propriétaire du domaine et lui donne son nom. Pendant plus de 120 ans, la famille du marquis gère le domaine avec passion, ce qui lui vaut de rentrer dans la famille restreinte des Grands Crus classés de 1855 . Propriété de la famille Sénéclauze depuis 1935, le domaine de 39 hectares repose sur des sols de graves composés de quartz et de quartzites tout en étant plus argileux en profondeur par endroits. Le vignoble est composé à 60% de cépage Cabernet Sauvignon, 33% de Merlot et 7% de Petit Verdot.  Description  Ce vin inédit baptisé \"9 de Marquis de Terme\" produit seulement à 999 exemplaires et élaboré à l\\'inverse de la tradition, est une perle rare.   Ces bouteilles uniques sont numérotées de 1 à 999. Pour cette cuvée exceptionnelle , les raisins sont vendangés à la main , uniquement sur les meilleures parcelles de la propriété, sur le plateau nord de Margaux qui présente un sol de graves profondes et sèches légèrement argileuses. A l’inverse de la cuvée classique, l’assemblage est fait à 60% de merlot et 40% de cabernet sauvignon . Elaboré à l’encontre des méthodes habituelles, le 9 de Marquis de Terme est d’abord vinifié en fût de chêne puis élevé dans des cuves en béton en forme d’œuf . Il est bâtonné durant les premiers mois pour garder en suspension les lies fines.  9 de Marquis de Terme 2012 : Un vin noble et gourmand  Le 9 de Marquis de Terme 2012 est un vin d’une grande noblesse . Sa robe rubis intense présente des reflets brillants très charmeurs. Au nez, il est très expressif avec des arômes de fruits noirs et plus particulièrement de mûre. Mais c’est en bouche que ce vin d’exception laisse apparaître toute l’étendue de sa noblesse avec des tanins amples et opulents mais fondus . La finale est fraîche avec une forte expression de fruits noirs. A carafer 1 heure avant de servir, ce vin subtil et élégant se mariera parfaitement avec du pigeon, une viande rouge rôtie ou du fromage.  Robe : Rubis avec reflets brillants Nez : Expressif sur le fruit noir Bouche : Fruitée avec tanins opulents et fondus Boire à partir de : 2020 Boire avant : 2030 Accords met/vin : Pigeon, viande rôtie, fromage Domaine : Château Marquis de Terme Millésime : 2012 Appellation : Margaux Région : Bordeaux Pays : France Couleur : Rouge Cépages : 60% Merlot, 40% Cabernet Sauvignon Terroirs : Sols de graves sèches légèrement argileux Vendanges : Manuelles avec tri au chai Viticulture : Culture raisonnée Vinification : En barriques pendant 2 mois Degré d’alcool : Élevage : 1 an en cuves en béton ovoïdes de 600 litres avec bâtonnage Production : 120 magnums ', 'https://static.wineandco.com/themes/wineandco/images/produits/1/4/5/2/grd14526.jpg']\n",
      "Nb de champs sur la 1ère ligne:  6\n",
      "name_file: wine_vnt_descriptions\n",
      "Nb de séparateurs tabulation sur la 1ère ligne:  6\n",
      "['20683-chateau-jean-de-marceau-2015', '|vin rouge|bordeaux|bordeaux aoc', 'CHATEAU JEAN DE MARCEAU 2015', 'https://www.vinatis.com/20683-chateau-jean-de-marceau-2015', 'Une valeur sûre pour ce Bordeaux  rouge  médaillé d\\'Or à Paris! Un rapport qualité-prix bluffant sur un  millésime  2015 qui s\\'inscrit déjà dans la lignée des légendaires 2009 et 2010!!!   Vinatis  vous présente le GRAND gagnant de notre sélection de\\xa0\"petits\" Bordeaux. Dégusté en Mars 2016 parmi plus de 40  vins , nous sommes unanimes: ce Château Jean de Marceau 2015 est LA valeur sûre! Fruité, élégant, avec des tanins bien fondus, il sera parfait pour accompagner vos repas entre amis en toute occasion: charcuteries et terrines, viandes mijotées et grillées, fromages... C\\'est le compagnon idéal qui sublimera vos convives. Un petit bijou Bordelais sur un millésime déjà mythique à prix complètement  canon !\\xa0  Voir les caractéristiques', 'https://www.vinatis.com/22967-detail_default/chateau-jean-de-marceau-2015.png']\n",
      "Nb de champs sur la 1ère ligne:  6\n",
      "name_file: wine_mll_descriptions\n",
      "Nb de séparateurs tabulation sur la 1ère ligne:  6\n",
      "['chateau-de-chamirey-mercurey-1er-cru-la-mission-monopole-2015', '|tous nos vins|château de chamirey|mercurey', 'Château de Chamirey : Mercurey 1er cru \"La Mission\" Monopole 2015', 'https://www.millesima.fr/chateau-de-chamirey-mercurey-1er-cru-la-mission-monopole-2015.html', \" Un vin blanc de Mercurey 1er Cru\\xa0boisé en bouche  Issu d'une parcelle d'1,92 hectare, le Mercurey 1er Cru La Mission du château de Chamirey est un vin blanc monocépage de Chardonnay produit sur l'appellation Mercurey 1er Cru . Profitant d'une exposition Est, les vignes sont implantées sur une terrasse de roches et de calcaires. L'élevage du vin est effectué en fûts de chêne (dont 20% en fûts neufs).  Le Mercurey 1er Cru La Mission 2015 du château de Chamirey montre une sublime robe de couleur or aux reflets verdâtres . Complexe et épicé , le nez développe des arômes de citrons verts , de fruits jaunes , d'agrumes , de vanille et de brioches et une subtile note de caramel . Boisé en bouche, le vin révèle une finale longue et une belle persistance aromatique.\", 'https://static.millesima.com/s3/attachements/full/E224.png']\n",
      "Nb de champs sur la 1ère ligne:  6\n",
      "name_file: wine_gvp_descriptions\n",
      "Nb de séparateurs tabulation sur la 1ère ligne:  6\n",
      "['1742-chateau-beychevelle-2014', '|archives ventes', 'Château Beychevelle 2014', 'https://grandsvins-prives.com/1742-chateau-beychevelle-2014.html', \" Le Château Beychevelle 2014 présente une robe rouge grenat assez brillante aux reflets violets. Le nez est très expressif \\xa0de fruits noirs mais aussi de notes de vanille, de boisé et d'épices. La bouche est fine et élégante , démontrant une belle  maturité . D'un velouté superbe en attaque, le vin dévoile par la suite toute sa puissance aromatique et une concentration digne des plus grands millésimes . Ce Cru Classé de Saint-Julien accompagnera à merveille du pigeonneau rôti. Le Château Beychevelle fait partie des plus prestigieux Crus Classés du Médoc . Du fait de son architecture classique des plus élégantes et de sa situation géographique au bord de la Gironde, Beychevelle a toujours été convoité par de puissantes familles de Bordeaux. Jean-Louis Nogaret de la Valett e, duc d'Epernon et homme tout puissant, exigeait selon la légende que chaque navire passant devant le château se devait de baisser ses voiles en signe d'allégeance. C'est de cette légende que vient son nom de Beychevelle signifiant Baisse-Voile, ainsi que l'emblème du château étant un navire à proue de griffon (gardien du cratère du vin de Dionysos). Le Château Beychevelle est, aujourd'hui, la propriété de Grands Millésimes de France (Groupe Castel et Suntory). C'est un cadre unique pour l'organisation de manifestations de prestige. Finesse, distinction, classe naturelle, sans épate, grande longueur, difficile de ne pas aimer.     The Château Beychevelle 2014 is a blend of 39% Cabernet Sauvignon, 51% Merlot, 5% Petit Verdot and 5% Cabernet Franc. You might notice the high percentage of Merlot. This is because of the flowering, decisions made during blending and the low yield of the Cabernet Sauvignon. It was cropped at 38 hectoliters per hectare between 25 September and 14 October during what the estate recorded as the driest September since 1961. That Merlot governs the aromatics here, the fruit clearly towards the red side of the fruit spectrum: cranberry and wild strawberry, almost Right Bank in style. The palate is ripe and fleshy, nicely defined with tensile tannins. I appreciate the nascent harmony here, with fine precision and a long sustained finish with fine salinity. You could argue that pinning your hopes on Merlot when so many others proselytize Cabernet Sauvignon was a risk however, in this showing it was a risk that was worth taking. Pomerol does Saint Julien perhaps? It seems to work on what may be the most seductive Beychevelle for years.\\xa0Drink: 2019 - 2032 Well-packed, with plum cake, bramble, blueberry patch and anise notes, all allied to a graphite edge on the finish. Racy acidity underscores everything. Rock-solid.—J.M.      Fine florality and black fruits on the nose then classy and classic St-Julien flavours. Has fleshed out a bit from the past – an attractively elegant, well-expressed wine. Drink: 2019-2030 Roger Voss      Tiefes Purpur, satt in der Mitte,\\xa0Granatschimmer am Rand. Schönes Cassis- und\\xa0Maulbeerenbouquet, dies mit einer schönen Tiefe\\xa0anzeigend. Im Gaumen mit Black Currant und eine\\xa0ziemlich tolle Konzentration zeigend. Selten hat mich ein\\xa0Beychevelle beim Primeur so überzeugt. Für mich ist\\xa0dieser mindestens so gut wie seine eigenen Jahrgänge\\xa02009 und 2010! 17/20 2020 – 2042\", 'https://grandsvins-prives.com/9453-large_default/chateau-beychevelle-2014.jpg']\n",
      "Nb de champs sur la 1ère ligne:  6\n",
      "name_file: wine_gvc_descriptions\n",
      "Nb de séparateurs tabulation sur la 1ère ligne:  6\n",
      "['esprit-de-pavie-2011', '|accueil|vins|france|bordeaux|bordeaux', 'Esprit de Pavie 2011', 'https://grandsvins.carrefour.fr/product/esprit-de-pavie-2011', '-', 'https://res.cloudinary.com/elixup/image/upload/c_pad,h_600,w_600/v1505934458/gr8sebqvhus5u200lbz1.png']\n",
      "Nb de champs sur la 1ère ligne:  6\n",
      "name_file: wine_lec_descriptions\n",
      "Nb de séparateurs tabulation sur la 1ère ligne:  6\n",
      "['', '-', '#', 'https://www.macave.leclerc/', '-', '#']\n",
      "Nb de champs sur la 1ère ligne:  6\n",
      "name_file: wine_auc_descriptions\n",
      "Nb de séparateurs tabulation sur la 1ère ligne:  6\n",
      "['chateau-de-pont-touraine-sauvignon-collection-philippe-faure-brac-blanc-2016', '|accueil|vin, champagne, alcool|vin|vins de loire|touraine', 'Château de Pont Touraine Sauvignon Collection Philippe Faure Brac Blanc 2016', 'https://www.auchan.fr/chateau-de-pont-touraine-sauvignon-collection-philippe-faure-brac-blanc-2016/p-c1022668', '', 'https://media1.auchan.fr/images/h4a/h6e/12909448167454.jpg']\n",
      "Nb de champs sur la 1ère ligne:  6\n"
     ]
    }
   ],
   "source": [
    "# Renseigner le chemin des données source:\n",
    "data_folder = \"/home/hapax94/Documents/vincent/jupyter/carrefour_1/notebooks/github_part2/analyse_keywords_with_descriptions/ngrams_in_descriptions/data\"\n",
    "\n",
    "wine_wac_descriptions = fc.create_df(\"wine_wac_descriptions\",data_folder + \"/wac/\")\n",
    "wine_wac_descriptions['distributeur'] = 'wac'\n",
    "\n",
    "wine_vnt_descriptions = fc.create_df(\"wine_vnt_descriptions\",data_folder + \"/vnt/\")\n",
    "wine_vnt_descriptions['distributeur'] = 'vnt'\n",
    "wine_mll_descriptions = fc.create_df(\"wine_mll_descriptions\",data_folder + \"/mll/\")\n",
    "wine_mll_descriptions['distributeur'] = 'mll'\n",
    "\n",
    "# 19/02/2018 : ajout de \"gvp\", \"gvc\", \"lec\" et \"auc\"\n",
    "wine_gvp_descriptions = fc.create_df(\"wine_gvp_descriptions\",data_folder + \"/gvp/\")\n",
    "wine_gvp_descriptions['distributeur'] = 'gvp'\n",
    "wine_gvc_descriptions = fc.create_df(\"wine_gvc_descriptions\",data_folder + \"/gvc/\")\n",
    "wine_gvc_descriptions['distributeur'] = 'gvc'\n",
    "wine_lec_descriptions = fc.create_df(\"wine_lec_descriptions\",data_folder + \"/lec/\")\n",
    "wine_lec_descriptions['distributeur'] = 'lec'\n",
    "wine_auc_descriptions = fc.create_df(\"wine_auc_descriptions\",data_folder + \"/auc/\")\n",
    "wine_auc_descriptions['distributeur'] = 'auc'\n",
    "\n",
    "# On rassemble tous les vins dans un dataframe\n",
    "import pandas as pd\n",
    "frames = [wine_wac_descriptions, wine_vnt_descriptions, wine_mll_descriptions, wine_gvp_descriptions, wine_gvc_descriptions, wine_lec_descriptions, wine_auc_descriptions]\n",
    "wine_descriptions = pd.concat(frames)\n",
    "del frames"
   ]
  },
  {
   "cell_type": "markdown",
   "metadata": {},
   "source": [
    "### 2. Nettoyage de la colonne \"title\" des vins"
   ]
  },
  {
   "cell_type": "code",
   "execution_count": 4,
   "metadata": {},
   "outputs": [],
   "source": [
    "wine_descriptions[\"title_new\"] = wine_descriptions['title'].map(fc.cleansing_titles)"
   ]
  },
  {
   "cell_type": "code",
   "execution_count": 5,
   "metadata": {},
   "outputs": [
    {
     "data": {
      "text/html": [
       "<div>\n",
       "<style scoped>\n",
       "    .dataframe tbody tr th:only-of-type {\n",
       "        vertical-align: middle;\n",
       "    }\n",
       "\n",
       "    .dataframe tbody tr th {\n",
       "        vertical-align: top;\n",
       "    }\n",
       "\n",
       "    .dataframe thead th {\n",
       "        text-align: right;\n",
       "    }\n",
       "</style>\n",
       "<table border=\"1\" class=\"dataframe\">\n",
       "  <thead>\n",
       "    <tr style=\"text-align: right;\">\n",
       "      <th></th>\n",
       "      <th>slug</th>\n",
       "      <th>fil_ariane</th>\n",
       "      <th>title</th>\n",
       "      <th>url</th>\n",
       "      <th>description</th>\n",
       "      <th>image_url</th>\n",
       "      <th>distributeur</th>\n",
       "      <th>title_new</th>\n",
       "    </tr>\n",
       "  </thead>\n",
       "  <tbody>\n",
       "    <tr>\n",
       "      <th>0</th>\n",
       "      <td>9-de-marquis-de-terme-2012-14526</td>\n",
       "      <td>|accueil|france|bordeaux|margaux|chateau marquis de terme</td>\n",
       "      <td>9 De Marquis De Terme 2012</td>\n",
       "      <td>https://www.wineandco.com/9-de-marquis-de-terme-2012-14526-fr-eur-fr.html</td>\n",
       "      <td>Le domaine  Domaine du Marquis de Terme : La passion de l’excellence  C’est en 1762 que le Marquis de Terme , en épousant Elisabeth de Ledoux d’Emplet, devient propriétaire du domaine et lui donne son nom. Pendant plus de 120 ans, la famille du marquis gère le domaine avec passion, ce qui lui vaut de rentrer dans la famille restreinte des Grands Crus classés de 1855 . Propriété de la famille Sénéclauze depuis 1935, le domaine de 39 hectares repose sur des sols de graves composés de quartz et de quartzites tout en étant plus argileux en profondeur par endroits. Le vignoble est composé à 60% de cépage Cabernet Sauvignon, 33% de Merlot et 7% de Petit Verdot.  Description  Ce vin inédit baptisé \"9 de Marquis de Terme\" produit seulement à 999 exemplaires et élaboré à l'inverse de la tradition, est une perle rare.   Ces bouteilles uniques sont numérotées de 1 à 999. Pour cette cuvée exceptionnelle , les raisins sont vendangés à la main , uniquement sur les meilleures parcelles de la propriété, sur le plateau nord de Margaux qui présente un sol de graves profondes et sèches légèrement argileuses. A l’inverse de la cuvée classique, l’assemblage est fait à 60% de merlot et 40% de cabernet sauvignon . Elaboré à l’encontre des méthodes habituelles, le 9 de Marquis de Terme est d’abord vinifié en fût de chêne puis élevé dans des cuves en béton en forme d’œuf . Il est bâtonné durant les premiers mois pour garder en suspension les lies fines.  9 de Marquis de Terme 2012 : Un vin noble et gourmand  Le 9 de Marquis de Terme 2012 est un vin d’une grande noblesse . Sa robe rubis intense présente des reflets brillants très charmeurs. Au nez, il est très expressif avec des arômes de fruits noirs et plus particulièrement de mûre. Mais c’est en bouche que ce vin d’exception laisse apparaître toute l’étendue de sa noblesse avec des tanins amples et opulents mais fondus . La finale est fraîche avec une forte expression de fruits noirs. A carafer 1 heure avant de servir, ce vin subtil et élégant se mariera parfaitement avec du pigeon, une viande rouge rôtie ou du fromage.  Robe : Rubis avec reflets brillants Nez : Expressif sur le fruit noir Bouche : Fruitée avec tanins opulents et fondus Boire à partir de : 2020 Boire avant : 2030 Accords met/vin : Pigeon, viande rôtie, fromage Domaine : Château Marquis de Terme Millésime : 2012 Appellation : Margaux Région : Bordeaux Pays : France Couleur : Rouge Cépages : 60% Merlot, 40% Cabernet Sauvignon Terroirs : Sols de graves sèches légèrement argileux Vendanges : Manuelles avec tri au chai Viticulture : Culture raisonnée Vinification : En barriques pendant 2 mois Degré d’alcool : Élevage : 1 an en cuves en béton ovoïdes de 600 litres avec bâtonnage Production : 120 magnums</td>\n",
       "      <td>https://static.wineandco.com/themes/wineandco/images/produits/1/4/5/2/grd14526.jpg</td>\n",
       "      <td>wac</td>\n",
       "      <td>9 de marquis de terme 2012</td>\n",
       "    </tr>\n",
       "    <tr>\n",
       "      <th>1</th>\n",
       "      <td>chateau-fonroque-2015-15942</td>\n",
       "      <td>|accueil|france|bordeaux|saint-émilion</td>\n",
       "      <td>Château Fonroque 2015</td>\n",
       "      <td>https://www.wineandco.com/chateau-fonroque-2015-15942-fr-eur-fr.html</td>\n",
       "      <td>Le domaine  CHÂTEAU FONROQUE : CULTURE DE LA BIODYNAMIE ET PERFECTION DU TERROIR  Au beau milieu des terres de Saint-Émilion, se dresse le Château Fonroque. Quelques kilomètres à l’est de Libourne, à mi-chemin entre LIEN-MARQUE[669, le Château Cheval Blanc] et LIEN-MARQUE[xxx, le Château Laroque], se distingue la propriété Fonroque. Depuis près d’un siècle entre les mains de la famille Moueix , les 20 hectares de vigne qui composent son domaine ont bien évolué.  En 2001, Alain Moueix reprends les rênes du vignoble. Ingénieur agricole animé par des valeurs profondes de respect du terroir et de son environnement, il modernise la viticulture de son exploitation. Il s’oriente vers des pratiques saines et naturelles pour valoriser son vin. Aujourd’hui, le vignoble tout entier est mené en biodynamie . Les pieds de vignes bénéficient d’une grande biodiversité et d’une belle souplesse des sols. À partir des fruits de cette culture, plus résistante aux maladies, est élaboré un grand cru d’une qualité exceptionnelle qui exprime à la perfection son terroir .</td>\n",
       "      <td>https://static3.wineandco.com/themes/wineandco/images/produits/1/5/9/4/grd15942.jpg</td>\n",
       "      <td>wac</td>\n",
       "      <td>chateau fonroque 2015</td>\n",
       "    </tr>\n",
       "    <tr>\n",
       "      <th>2</th>\n",
       "      <td>xavier-vins-cotes-du-rhone-rouge-2015-17256</td>\n",
       "      <td>|accueil|france|rhône|châteauneuf du pape|xavier vins d'experts</td>\n",
       "      <td>Xavier Vins Côtes Du Rhône Rouge 2015</td>\n",
       "      <td>https://www.wineandco.com/xavier-vins-cotes-du-rhone-rouge-2015-17256-fr-eur-fr.html</td>\n",
       "      <td>Le domaine   Xavier : Un nom qui révèle bien plus qu’un domaine  Les vins Xavier représentent une grande originalité dans le paysage de la viticulture française. En effet pour élever des vins élégants et caractéristiques de chacune des appellations concernées, Xavier Vignon ne s’appuie pas à proprement parler sur un domaine au sens traditionnel du terme. En effet, cet œnologue conseil, qui a accompagné des centaines de domaines réputés, a décidé de sélectionner les vignes de certaines parcelles afin d’imaginer et d’élever des vins à la qualité rare. Loin des contraintes d’un domaine traditionnel, les vins Xavier représentent pour chaque appellation une tentative d’élevage du vin parfait, du vin idéal. De la culture de la vigne au travail à la cave, en passant par le travail des sols ou encore l’élevage des précieux breuvages, chaque aspect a son importance et Xavier Vignon s’efforce de tout contrôler et de tout organiser pour sublimer chacune de ses cuvées.  Description   Côtes du Rhône : Un vin rouge pour sublimer les vins de la vallée du Rhône  Pour nous proposer son vin rouge de l’AOC Côtes du Rhône, Xavier Vignon a sélectionné des terroirs caractéristiques de la région. On retrouve ainsi un terroir argilo-calcaire mais aussi un terroir plus calcaire et un autre plus caillouteux. C’est sur ces parcelles qu’a été plantée la vigne. Les vins Xavier ont imaginé un assemblage subtil pour élever ce grand vin des côtes du Rhône : 65 % de Grenache, 25 % de Mourvèdre et 10 % de Syrah. . Chaque cépage est vinifié séparément afin de sublimer chacune de ces caractéristiques, d’autant plus que Xavier a choisi en partie des vieilles vignes, 80 ans pour les Mourvèdres et même 90 ans pour les vignes de Grenache. L’élevage en fût et en foudre termine le processus pour nous dévoiler un vin délicat et gourmand.   Côtes du Rhône Xavier 2015 : Un vin gourmand et enchanteur pour sublimer une AOC  Comme pour tous ces vins, le millésime 2015 des Côtes du Rhône Xavier concentre toutes les caractéristiques de son appellation. La belle robe rouge sombre promet un nez complexe et délicat à la fois. On retrouve ces notes fruitées, parmi lesquelles se dégagent des effluves de framboises et de myrtilles. Une pointe de réglisse se mêle à ces effluves. La bouche est soyeuse, révélant des tanins fins et laissant apparaitre des notes plus florales et minérales. Equilibré, ce Côtes du Rhône Xavier 2015 pourra être gardé 6 ans en cave et sera servi avec des grillades à une température de 14 à 16°C.</td>\n",
       "      <td>https://static.wineandco.com/themes/wineandco/images/produits/1/7/2/5/grd17256.jpg</td>\n",
       "      <td>wac</td>\n",
       "      <td>xavier vins cotes du rhone rouge 2015</td>\n",
       "    </tr>\n",
       "    <tr>\n",
       "      <th>3</th>\n",
       "      <td>chateau-d-issan-2016-17439</td>\n",
       "      <td>|accueil|france|bordeaux|margaux|château d'issan</td>\n",
       "      <td>Château D'Issan 2016</td>\n",
       "      <td>https://www.wineandco.com/chateau-d-issan-2016-17439-fr-eur-fr.html</td>\n",
       "      <td>Le domaine  CHÂTEAU D’ISSAN : L’ALLIANCE DE LA DÉLICATESSE ET DE LA PUISSANCE  Servi au mariage d’Aliénor d’Aquitaine et d’Henri Plantagenêt en 1152, prisé à la cour viennoise de l’Empereur François-Joseph, le Château d’Issan n’a pas usurpé sa devise : « Pour la table des Rois et l'autel des Dieux ! » . Ce Troisième Cru Classé en 1855 , situé en plein coeur de l’appellation Margaux, appartient à la famille Cruse depuis 1945. Son vignoble s’étend sur 30 hectares et nous livre des vins alliant délicatesse et puissance . D’après le courtier et poète Biarnez, « ils sont onctueux, d'une saveur extrême. Ils réjouissent notre œil par leur vive couleur et flattent l'odorat comme une douce fleur» Un cru qui inspire les poètes !  Description  LE MILLÉSIME 2016 AU CHÂTEAU D’ISSAN  2016 est le 71ème millésime vinifié par la famille Cruse au Château d’Issan , un recul qui leur a permis de maîtriser ce millésime à la météo surprenante. Un hiver doux et un printemps plutôt pluvieux n’encourageaient pas les meilleurs pronostics, jusqu’à fin mai-début juin où le soleil est arrivé à point nommé pour permettre la floraison des vignes. Le fantastique été qui a suivi a apporté la chaleur et le soleil nécessaires à la bonne maturation des grappes, tandis que quelques pluies en septembre ont relancé la dynamique du millésime. « Miraculeux et extraordinaire » d’après Emmanuel Cruse, on peut être sûr que le millésime 2016 va marquer les esprits !  CHÂTEAU D’ISSAN 2016 : UNE VALEUR SÛRE !  Le grand vin du Château d’Issan 2016 est un régal de fraîcheur et d’élégance ! Au nez, le bouquet aromatique nous dévoile des notes de fruits sauvages, comme la mûre ou encore le cassis, mais aussi d’épices comme le poivre et le clou de girofle ou encore la réglisse. Au palais, Château d’Issan 2016, allie la rondeur à la puissance, avec des tannins puissants et racés qui sous-tendent une belle souplesse. Château d’Issan 2016 offre un potentiel de garde exceptionnel, avec pourtant une buvabilité étonnante !</td>\n",
       "      <td>https://static.wineandco.com/themes/wineandco/images/produits/1/7/4/3/grd17439.jpg</td>\n",
       "      <td>wac</td>\n",
       "      <td>chateau d'issan 2016</td>\n",
       "    </tr>\n",
       "    <tr>\n",
       "      <th>4</th>\n",
       "      <td>chateau-peyrabon-2012-11183</td>\n",
       "      <td>|accueil|france|bordeaux|haut-médoc|château peyrabon</td>\n",
       "      <td>Château Peyrabon 2012</td>\n",
       "      <td>https://www.wineandco.com/chateau-peyrabon-2012-11183-fr-eur-fr.html</td>\n",
       "      <td>Le domaine  Château Peyrabon, une politique de l'excellence  La création du Domaine Château Peyrabon remonte au XVIIIème siècle. L'attention portée au vignoble et à la vinification par les différents propriétaires qui se sont succédés à la tête du domaine ont permis d'asseoir la réputation de qualité et de régularité des vins Château Peyrabon .  L'équipe de passionnés actuellement en charge des soins du vignoble et de la vinification conjugue avec bonheur savoir-faire traditionnel et techniques de pointe pour élaborer des vins renommés. Les vignes sont ainsi travaillées de manière raisonnée , ce qui inclut l'utilisation du labour pour désherber et des travaux en vert (épamprage, effeuillage...). Tous les moyens sont également mis en œuvre pour une vinification optimale , parcelle par parcelle.  Description  CHÂTEAU PEYRABON 2012, un grand Cru Bourgeois du Haut-Médoc  La richesse du terroir du Haut-Médoc  Situé au cœur de l'AOC Haut-Médoc , le Domaine Château Peyrabon bénéficie d'un terroir propice aux vins de qualité. Le vignoble, qui compte 52 ha autour du château, se répartit entre 45 hectares en appellation Haut-Médoc et 7 hectares en appellation Pauillac.  Le Domaine est constitué de sols argilo-calcaires , où le Merlot peut s'exprimer pleinement, complémentaires des croupes de graves sableuses sur sous-sols argileux, si favorables au Cabernet Sauvignon.  Le Château Peyrabon est issu de l'assemblage de cépages typiquement Bordelais : Cabernet Sauvignon (61%), Merlot (29,5%), Cabernet Franc (5,5%) et Petit Verdot (4%). Les vignes qui entrent dans sa composition ont 17 ans d'âge en moyenne. Après des vendanges manuelles et un tri sur table, la vinification se fait parcelle par parcelle en cuves inox et béton. Vient ensuite l'élevage pendant 14 mois en barriques de chênes (dont un quart sont neuves).  Château Peyrabon 2012, un grand Cru Bourgeois  Une note de 82/100 pour Robert Parker, de 16,5/20 pour la Revue Française des Vins, le Château Peyrabon 2012, c'est le plaisir d'un grand Médoc à prix abordable ! Comme tous les Haut-Médoc, le Château Peyrabon jeune a un côté tannique très affirmé. Ce n'est qu'avec le temps que ce vin à la belle robre rouge développe de beaux bouquets aromatiques de fruits rouges et devient charnu avec de belles rondeurs.  Le Château Peyrabon 2012 affiche un bel équilibre entre la complexité de ses arômes et ses tanins . Son nez, très délicat, possède des notes de prunes avec un arôme cacao délicieusement poivré. La bouche est juteuse, évoquant les fruits rouges frais comme la cerise et la prune avec un boisé raffiné. Équilibré et possédant un joli complexe aromatique, le Château Peyrabon 2012 est idéal avec une viande rouge ou une grillade.</td>\n",
       "      <td>https://static3.wineandco.com/themes/wineandco/images/produits/1/1/1/8/grd11183.jpg</td>\n",
       "      <td>wac</td>\n",
       "      <td>chateau peyrabon 2012</td>\n",
       "    </tr>\n",
       "  </tbody>\n",
       "</table>\n",
       "</div>"
      ],
      "text/plain": [
       "                                          slug  \\\n",
       "0  9-de-marquis-de-terme-2012-14526              \n",
       "1  chateau-fonroque-2015-15942                   \n",
       "2  xavier-vins-cotes-du-rhone-rouge-2015-17256   \n",
       "3  chateau-d-issan-2016-17439                    \n",
       "4  chateau-peyrabon-2012-11183                   \n",
       "\n",
       "                                                        fil_ariane  \\\n",
       "0  |accueil|france|bordeaux|margaux|chateau marquis de terme         \n",
       "1  |accueil|france|bordeaux|saint-émilion                            \n",
       "2  |accueil|france|rhône|châteauneuf du pape|xavier vins d'experts   \n",
       "3  |accueil|france|bordeaux|margaux|château d'issan                  \n",
       "4  |accueil|france|bordeaux|haut-médoc|château peyrabon              \n",
       "\n",
       "                                   title  \\\n",
       "0  9 De Marquis De Terme 2012              \n",
       "1  Château Fonroque 2015                   \n",
       "2  Xavier Vins Côtes Du Rhône Rouge 2015   \n",
       "3  Château D'Issan 2016                    \n",
       "4  Château Peyrabon 2012                   \n",
       "\n",
       "                                                                                    url  \\\n",
       "0  https://www.wineandco.com/9-de-marquis-de-terme-2012-14526-fr-eur-fr.html              \n",
       "1  https://www.wineandco.com/chateau-fonroque-2015-15942-fr-eur-fr.html                   \n",
       "2  https://www.wineandco.com/xavier-vins-cotes-du-rhone-rouge-2015-17256-fr-eur-fr.html   \n",
       "3  https://www.wineandco.com/chateau-d-issan-2016-17439-fr-eur-fr.html                    \n",
       "4  https://www.wineandco.com/chateau-peyrabon-2012-11183-fr-eur-fr.html                   \n",
       "\n",
       "                                                                                                                                                                                                                                                                                                                                                                                                                                                                                                                                                                                                                                                                                                                                                                                                                                                                                                                                                                                                                                                                                                                                                                                                                                                                                                                                                                                                                                                                                                                                                                                                                                                                                                                                                                                                                                                                                                                                                                                                                                                                                                                                                                                                                                                                                                                                                                                                                                                                                                                                                                                                                                                                                                                                                                                                                                               description  \\\n",
       "0    Le domaine  Domaine du Marquis de Terme : La passion de l’excellence  C’est en 1762 que le Marquis de Terme , en épousant Elisabeth de Ledoux d’Emplet, devient propriétaire du domaine et lui donne son nom. Pendant plus de 120 ans, la famille du marquis gère le domaine avec passion, ce qui lui vaut de rentrer dans la famille restreinte des Grands Crus classés de 1855 . Propriété de la famille Sénéclauze depuis 1935, le domaine de 39 hectares repose sur des sols de graves composés de quartz et de quartzites tout en étant plus argileux en profondeur par endroits. Le vignoble est composé à 60% de cépage Cabernet Sauvignon, 33% de Merlot et 7% de Petit Verdot.  Description  Ce vin inédit baptisé \"9 de Marquis de Terme\" produit seulement à 999 exemplaires et élaboré à l'inverse de la tradition, est une perle rare.   Ces bouteilles uniques sont numérotées de 1 à 999. Pour cette cuvée exceptionnelle , les raisins sont vendangés à la main , uniquement sur les meilleures parcelles de la propriété, sur le plateau nord de Margaux qui présente un sol de graves profondes et sèches légèrement argileuses. A l’inverse de la cuvée classique, l’assemblage est fait à 60% de merlot et 40% de cabernet sauvignon . Elaboré à l’encontre des méthodes habituelles, le 9 de Marquis de Terme est d’abord vinifié en fût de chêne puis élevé dans des cuves en béton en forme d’œuf . Il est bâtonné durant les premiers mois pour garder en suspension les lies fines.  9 de Marquis de Terme 2012 : Un vin noble et gourmand  Le 9 de Marquis de Terme 2012 est un vin d’une grande noblesse . Sa robe rubis intense présente des reflets brillants très charmeurs. Au nez, il est très expressif avec des arômes de fruits noirs et plus particulièrement de mûre. Mais c’est en bouche que ce vin d’exception laisse apparaître toute l’étendue de sa noblesse avec des tanins amples et opulents mais fondus . La finale est fraîche avec une forte expression de fruits noirs. A carafer 1 heure avant de servir, ce vin subtil et élégant se mariera parfaitement avec du pigeon, une viande rouge rôtie ou du fromage.  Robe : Rubis avec reflets brillants Nez : Expressif sur le fruit noir Bouche : Fruitée avec tanins opulents et fondus Boire à partir de : 2020 Boire avant : 2030 Accords met/vin : Pigeon, viande rôtie, fromage Domaine : Château Marquis de Terme Millésime : 2012 Appellation : Margaux Région : Bordeaux Pays : France Couleur : Rouge Cépages : 60% Merlot, 40% Cabernet Sauvignon Terroirs : Sols de graves sèches légèrement argileux Vendanges : Manuelles avec tri au chai Viticulture : Culture raisonnée Vinification : En barriques pendant 2 mois Degré d’alcool : Élevage : 1 an en cuves en béton ovoïdes de 600 litres avec bâtonnage Production : 120 magnums    \n",
       "1    Le domaine  CHÂTEAU FONROQUE : CULTURE DE LA BIODYNAMIE ET PERFECTION DU TERROIR  Au beau milieu des terres de Saint-Émilion, se dresse le Château Fonroque. Quelques kilomètres à l’est de Libourne, à mi-chemin entre LIEN-MARQUE[669, le Château Cheval Blanc] et LIEN-MARQUE[xxx, le Château Laroque], se distingue la propriété Fonroque. Depuis près d’un siècle entre les mains de la famille Moueix , les 20 hectares de vigne qui composent son domaine ont bien évolué.  En 2001, Alain Moueix reprends les rênes du vignoble. Ingénieur agricole animé par des valeurs profondes de respect du terroir et de son environnement, il modernise la viticulture de son exploitation. Il s’oriente vers des pratiques saines et naturelles pour valoriser son vin. Aujourd’hui, le vignoble tout entier est mené en biodynamie . Les pieds de vignes bénéficient d’une grande biodiversité et d’une belle souplesse des sols. À partir des fruits de cette culture, plus résistante aux maladies, est élaboré un grand cru d’une qualité exceptionnelle qui exprime à la perfection son terroir .                                                                                                                                                                                                                                                                                                                                                                                                                                                                                                                                                                                                                                                                                                                                                                                                                                                                                                                                                                                                                                                                                                                                                                                                                                                                                                                                                                                                                                                                                                                                                                                                                                                                                                                                                 \n",
       "2    Le domaine   Xavier : Un nom qui révèle bien plus qu’un domaine  Les vins Xavier représentent une grande originalité dans le paysage de la viticulture française. En effet pour élever des vins élégants et caractéristiques de chacune des appellations concernées, Xavier Vignon ne s’appuie pas à proprement parler sur un domaine au sens traditionnel du terme. En effet, cet œnologue conseil, qui a accompagné des centaines de domaines réputés, a décidé de sélectionner les vignes de certaines parcelles afin d’imaginer et d’élever des vins à la qualité rare. Loin des contraintes d’un domaine traditionnel, les vins Xavier représentent pour chaque appellation une tentative d’élevage du vin parfait, du vin idéal. De la culture de la vigne au travail à la cave, en passant par le travail des sols ou encore l’élevage des précieux breuvages, chaque aspect a son importance et Xavier Vignon s’efforce de tout contrôler et de tout organiser pour sublimer chacune de ses cuvées.  Description   Côtes du Rhône : Un vin rouge pour sublimer les vins de la vallée du Rhône  Pour nous proposer son vin rouge de l’AOC Côtes du Rhône, Xavier Vignon a sélectionné des terroirs caractéristiques de la région. On retrouve ainsi un terroir argilo-calcaire mais aussi un terroir plus calcaire et un autre plus caillouteux. C’est sur ces parcelles qu’a été plantée la vigne. Les vins Xavier ont imaginé un assemblage subtil pour élever ce grand vin des côtes du Rhône : 65 % de Grenache, 25 % de Mourvèdre et 10 % de Syrah. . Chaque cépage est vinifié séparément afin de sublimer chacune de ces caractéristiques, d’autant plus que Xavier a choisi en partie des vieilles vignes, 80 ans pour les Mourvèdres et même 90 ans pour les vignes de Grenache. L’élevage en fût et en foudre termine le processus pour nous dévoiler un vin délicat et gourmand.   Côtes du Rhône Xavier 2015 : Un vin gourmand et enchanteur pour sublimer une AOC  Comme pour tous ces vins, le millésime 2015 des Côtes du Rhône Xavier concentre toutes les caractéristiques de son appellation. La belle robe rouge sombre promet un nez complexe et délicat à la fois. On retrouve ces notes fruitées, parmi lesquelles se dégagent des effluves de framboises et de myrtilles. Une pointe de réglisse se mêle à ces effluves. La bouche est soyeuse, révélant des tanins fins et laissant apparaitre des notes plus florales et minérales. Equilibré, ce Côtes du Rhône Xavier 2015 pourra être gardé 6 ans en cave et sera servi avec des grillades à une température de 14 à 16°C.                                                                                                                                                                                                                                           \n",
       "3    Le domaine  CHÂTEAU D’ISSAN : L’ALLIANCE DE LA DÉLICATESSE ET DE LA PUISSANCE  Servi au mariage d’Aliénor d’Aquitaine et d’Henri Plantagenêt en 1152, prisé à la cour viennoise de l’Empereur François-Joseph, le Château d’Issan n’a pas usurpé sa devise : « Pour la table des Rois et l'autel des Dieux ! » . Ce Troisième Cru Classé en 1855 , situé en plein coeur de l’appellation Margaux, appartient à la famille Cruse depuis 1945. Son vignoble s’étend sur 30 hectares et nous livre des vins alliant délicatesse et puissance . D’après le courtier et poète Biarnez, « ils sont onctueux, d'une saveur extrême. Ils réjouissent notre œil par leur vive couleur et flattent l'odorat comme une douce fleur» Un cru qui inspire les poètes !  Description  LE MILLÉSIME 2016 AU CHÂTEAU D’ISSAN  2016 est le 71ème millésime vinifié par la famille Cruse au Château d’Issan , un recul qui leur a permis de maîtriser ce millésime à la météo surprenante. Un hiver doux et un printemps plutôt pluvieux n’encourageaient pas les meilleurs pronostics, jusqu’à fin mai-début juin où le soleil est arrivé à point nommé pour permettre la floraison des vignes. Le fantastique été qui a suivi a apporté la chaleur et le soleil nécessaires à la bonne maturation des grappes, tandis que quelques pluies en septembre ont relancé la dynamique du millésime. « Miraculeux et extraordinaire » d’après Emmanuel Cruse, on peut être sûr que le millésime 2016 va marquer les esprits !  CHÂTEAU D’ISSAN 2016 : UNE VALEUR SÛRE !  Le grand vin du Château d’Issan 2016 est un régal de fraîcheur et d’élégance ! Au nez, le bouquet aromatique nous dévoile des notes de fruits sauvages, comme la mûre ou encore le cassis, mais aussi d’épices comme le poivre et le clou de girofle ou encore la réglisse. Au palais, Château d’Issan 2016, allie la rondeur à la puissance, avec des tannins puissants et racés qui sous-tendent une belle souplesse. Château d’Issan 2016 offre un potentiel de garde exceptionnel, avec pourtant une buvabilité étonnante !                                                                                                                                                                                                                                                                                                                                                                                                                                                                                                                                                                                                                                                                                                                                                                        \n",
       "4    Le domaine  Château Peyrabon, une politique de l'excellence  La création du Domaine Château Peyrabon remonte au XVIIIème siècle. L'attention portée au vignoble et à la vinification par les différents propriétaires qui se sont succédés à la tête du domaine ont permis d'asseoir la réputation de qualité et de régularité des vins Château Peyrabon .  L'équipe de passionnés actuellement en charge des soins du vignoble et de la vinification conjugue avec bonheur savoir-faire traditionnel et techniques de pointe pour élaborer des vins renommés. Les vignes sont ainsi travaillées de manière raisonnée , ce qui inclut l'utilisation du labour pour désherber et des travaux en vert (épamprage, effeuillage...). Tous les moyens sont également mis en œuvre pour une vinification optimale , parcelle par parcelle.  Description  CHÂTEAU PEYRABON 2012, un grand Cru Bourgeois du Haut-Médoc  La richesse du terroir du Haut-Médoc  Situé au cœur de l'AOC Haut-Médoc , le Domaine Château Peyrabon bénéficie d'un terroir propice aux vins de qualité. Le vignoble, qui compte 52 ha autour du château, se répartit entre 45 hectares en appellation Haut-Médoc et 7 hectares en appellation Pauillac.  Le Domaine est constitué de sols argilo-calcaires , où le Merlot peut s'exprimer pleinement, complémentaires des croupes de graves sableuses sur sous-sols argileux, si favorables au Cabernet Sauvignon.  Le Château Peyrabon est issu de l'assemblage de cépages typiquement Bordelais : Cabernet Sauvignon (61%), Merlot (29,5%), Cabernet Franc (5,5%) et Petit Verdot (4%). Les vignes qui entrent dans sa composition ont 17 ans d'âge en moyenne. Après des vendanges manuelles et un tri sur table, la vinification se fait parcelle par parcelle en cuves inox et béton. Vient ensuite l'élevage pendant 14 mois en barriques de chênes (dont un quart sont neuves).  Château Peyrabon 2012, un grand Cru Bourgeois  Une note de 82/100 pour Robert Parker, de 16,5/20 pour la Revue Française des Vins, le Château Peyrabon 2012, c'est le plaisir d'un grand Médoc à prix abordable ! Comme tous les Haut-Médoc, le Château Peyrabon jeune a un côté tannique très affirmé. Ce n'est qu'avec le temps que ce vin à la belle robre rouge développe de beaux bouquets aromatiques de fruits rouges et devient charnu avec de belles rondeurs.  Le Château Peyrabon 2012 affiche un bel équilibre entre la complexité de ses arômes et ses tanins . Son nez, très délicat, possède des notes de prunes avec un arôme cacao délicieusement poivré. La bouche est juteuse, évoquant les fruits rouges frais comme la cerise et la prune avec un boisé raffiné. Équilibré et possédant un joli complexe aromatique, le Château Peyrabon 2012 est idéal avec une viande rouge ou une grillade.                           \n",
       "\n",
       "                                                                             image_url  \\\n",
       "0  https://static.wineandco.com/themes/wineandco/images/produits/1/4/5/2/grd14526.jpg    \n",
       "1  https://static3.wineandco.com/themes/wineandco/images/produits/1/5/9/4/grd15942.jpg   \n",
       "2  https://static.wineandco.com/themes/wineandco/images/produits/1/7/2/5/grd17256.jpg    \n",
       "3  https://static.wineandco.com/themes/wineandco/images/produits/1/7/4/3/grd17439.jpg    \n",
       "4  https://static3.wineandco.com/themes/wineandco/images/produits/1/1/1/8/grd11183.jpg   \n",
       "\n",
       "  distributeur                              title_new  \n",
       "0  wac          9 de marquis de terme 2012             \n",
       "1  wac          chateau fonroque 2015                  \n",
       "2  wac          xavier vins cotes du rhone rouge 2015  \n",
       "3  wac          chateau d'issan 2016                   \n",
       "4  wac          chateau peyrabon 2012                  "
      ]
     },
     "execution_count": 5,
     "metadata": {},
     "output_type": "execute_result"
    }
   ],
   "source": [
    "wine_descriptions.head()"
   ]
  },
  {
   "cell_type": "markdown",
   "metadata": {},
   "source": [
    "29/09/2018\n",
    "###  3. Import des données \"properties\""
   ]
  },
  {
   "cell_type": "code",
   "execution_count": 18,
   "metadata": {},
   "outputs": [
    {
     "name": "stdout",
     "output_type": "stream",
     "text": [
      "name_file: wine_vnt_properties_corrige\n",
      "list_of_columns: ['slug', 'not_relevant_index', 'property', 'property_label', 'last_col']\n",
      "Nb de séparateurs tabulation sur la 1ère ligne:  5\n",
      "['20683-chateau-jean-de-marceau-2015', '1', 'Millésime', '2015', '']\n",
      "Nb de champs sur la 1ère ligne:  4\n",
      "name_file: wine_wac_properties\n",
      "list_of_columns: ['slug', 'not_relevant_index', 'property', 'property_label', 'last_col']\n",
      "Nb de séparateurs tabulation sur la 1ère ligne:  5\n",
      "['9-de-marquis-de-terme-2012-14526', '1', 'Pays :', 'France', '']\n",
      "Nb de champs sur la 1ère ligne:  5\n",
      "name_file: wine_mll_properties\n",
      "list_of_columns: ['slug', 'not_relevant_index', 'property', 'property_label', 'last_col']\n",
      "Nb de séparateurs tabulation sur la 1ère ligne:  5\n",
      "['chateau-de-chamirey-mercurey-1er-cru-la-mission-monopole-2015', '1', 'Encépagement', 'Chardonnay', '']\n",
      "Nb de champs sur la 1ère ligne:  5\n",
      "name_file: wine_gvp_properties\n",
      "list_of_columns: ['slug', 'not_relevant_index', 'property', 'property_label', 'last_col']\n",
      "Nb de séparateurs tabulation sur la 1ère ligne:  5\n",
      "['1742-chateau-beychevelle-2014', '1', 'Assemblage', '51% Merlot, 39% Cabernet Sauvignon, 5 % Cabernet Franc et 5% Petit Verdot', '']\n",
      "Nb de champs sur la 1ère ligne:  5\n",
      "name_file: wine_gvc_properties\n",
      "list_of_columns: ['slug', 'not_relevant_index', 'property', 'property_label', 'last_col']\n",
      "Nb de séparateurs tabulation sur la 1ère ligne:  5\n",
      "['esprit-de-pavie-2011', '1', 'Cépages', 'Cabernet Franc (20%), Cabernet Sauvignon (15%), Merlot (65%)', '']\n",
      "Nb de champs sur la 1ère ligne:  5\n",
      "name_file: wine_lec_properties\n",
      "list_of_columns: ['slug', 'not_relevant_index', 'property', 'property_label', 'last_col']\n",
      "Nb de séparateurs tabulation sur la 1ère ligne:  5\n",
      "['chateau-graulet-2014', '1', 'Occasions :', 'Petit repas entre amis', '']\n",
      "Nb de champs sur la 1ère ligne:  5\n",
      "name_file: wine_auc_properties\n",
      "list_of_columns: ['slug', 'not_relevant_index', 'property', 'property_label', 'last_col']\n",
      "Nb de séparateurs tabulation sur la 1ère ligne:  5\n",
      "['chateau-de-pont-touraine-sauvignon-collection-philippe-faure-brac-blanc-2016', '1', 'Le conseil de notre spécialiste', \"La Château de Pont date du 19ème, construit sur un ancien manoir dont l'origine remonte au 16ème siècle. Le château situé au sud du Cher, est entouré de Sauvignon qui bénéficie d'une exposition plein sud, idéale pour l'élaboration de ce Touraine.\", '']\n",
      "Nb de champs sur la 1ère ligne:  5\n"
     ]
    }
   ],
   "source": [
    "# wine_wac_properties = create_df(\"wine_wac_properties\",'/home/hapax94/Documents/vincent/jupyter/carrefour_1/fichiers_générés_par_Hervé/wac_181217/wac/')\n",
    "wine_vnt_properties = fc.create_df_corrige(\"wine_vnt_properties_corrige\",data_folder + \"/vnt/\")\n",
    "\n",
    "wine_wac_properties = fc.create_df(\"wine_wac_properties\",data_folder + \"/wac/\")\n",
    "wine_wac_properties['distributeur'] = 'wac'\n",
    "\n",
    "wine_vnt_properties['distributeur'] = 'vnt'\n",
    "wine_mll_properties = fc.create_df(\"wine_mll_properties\",data_folder + \"/mll/\")\n",
    "wine_mll_properties['distributeur'] = 'mll'\n",
    "\n",
    "# 19/02/2018 : ajout de \"gvp\", \"gvc\", \"lec\" et \"auc\"\n",
    "wine_gvp_properties = fc.create_df(\"wine_gvp_properties\",data_folder + \"/gvp/\")\n",
    "wine_gvp_properties['distributeur'] = 'gvp'\n",
    "wine_gvc_properties = fc.create_df(\"wine_gvc_properties\",data_folder + \"/gvc/\")\n",
    "wine_gvc_properties['distributeur'] = 'gvc'\n",
    "wine_lec_properties = fc.create_df(\"wine_lec_properties\",data_folder + \"/lec/\")\n",
    "wine_lec_properties['distributeur'] = 'lec'\n",
    "wine_auc_properties = fc.create_df(\"wine_auc_properties\",data_folder + \"/auc/\")\n",
    "wine_auc_properties['distributeur'] = 'auc'\n",
    "\n",
    "import pandas as pd\n",
    "frames = [wine_wac_properties, wine_vnt_properties, wine_mll_properties, wine_gvp_properties, wine_gvc_properties, wine_lec_properties, wine_auc_properties]\n",
    "wine_properties = pd.concat(frames)\n",
    "# On supprime la colonne \"last_col\" qui est vide\n",
    "wine_properties = wine_properties.drop(\"last_col\", axis =1)\n",
    "\n",
    "del wine_wac_properties, wine_vnt_properties, wine_mll_properties, wine_gvp_properties, wine_gvc_properties, wine_lec_properties, wine_auc_properties"
   ]
  },
  {
   "cell_type": "code",
   "execution_count": 21,
   "metadata": {},
   "outputs": [],
   "source": [
    "# wine_properties.shape"
   ]
  },
  {
   "cell_type": "code",
   "execution_count": 22,
   "metadata": {},
   "outputs": [],
   "source": [
    "# wine_properties.head(n=20)"
   ]
  },
  {
   "cell_type": "markdown",
   "metadata": {},
   "source": [
    "### 4. Fonction qui prend en entrée un texte, un paramètre n et sort les n grams"
   ]
  },
  {
   "cell_type": "code",
   "execution_count": 6,
   "metadata": {},
   "outputs": [
    {
     "data": {
      "text/plain": [
       "['Xavier Vins',\n",
       " 'Vins Côtes',\n",
       " 'Côtes Du',\n",
       " 'Du Rhône',\n",
       " 'Rhône Rouge',\n",
       " 'Rouge 2015']"
      ]
     },
     "execution_count": 6,
     "metadata": {},
     "output_type": "execute_result"
    }
   ],
   "source": [
    "%autoreload\n",
    "\n",
    "test = \"Xavier Vins Côtes Du Rhône Rouge 2015\"\n",
    "ngrams_output = fc.find_ngrams(test,2)\n",
    "ngrams_output"
   ]
  }
 ],
 "metadata": {
  "kernelspec": {
   "display_name": "Python 3",
   "language": "python",
   "name": "python3"
  },
  "language_info": {
   "codemirror_mode": {
    "name": "ipython",
    "version": 3
   },
   "file_extension": ".py",
   "mimetype": "text/x-python",
   "name": "python",
   "nbconvert_exporter": "python",
   "pygments_lexer": "ipython3",
   "version": "3.5.2"
  },
  "toc": {
   "nav_menu": {},
   "number_sections": true,
   "sideBar": true,
   "skip_h1_title": false,
   "toc_cell": false,
   "toc_position": {},
   "toc_section_display": "block",
   "toc_window_display": false
  },
  "varInspector": {
   "cols": {
    "lenName": 16,
    "lenType": 16,
    "lenVar": 40
   },
   "kernels_config": {
    "python": {
     "delete_cmd_postfix": "",
     "delete_cmd_prefix": "del ",
     "library": "var_list.py",
     "varRefreshCmd": "print(var_dic_list())"
    },
    "r": {
     "delete_cmd_postfix": ") ",
     "delete_cmd_prefix": "rm(",
     "library": "var_list.r",
     "varRefreshCmd": "cat(var_dic_list()) "
    }
   },
   "types_to_exclude": [
    "module",
    "function",
    "builtin_function_or_method",
    "instance",
    "_Feature"
   ],
   "window_display": false
  }
 },
 "nbformat": 4,
 "nbformat_minor": 2
}
